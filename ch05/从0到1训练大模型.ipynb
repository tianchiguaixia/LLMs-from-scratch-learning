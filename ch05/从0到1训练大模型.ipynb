{
 "cells": [
  {
   "cell_type": "markdown",
   "id": "e64e39eb-4bbc-47e5-ad2e-98c09ee4bd5a",
   "metadata": {},
   "source": [
    "### 查看库版本"
   ]
  },
  {
   "cell_type": "code",
   "execution_count": 21,
   "id": "22aed912-a6f9-4e5d-8561-552a638b1af4",
   "metadata": {
    "execution": {
     "iopub.execute_input": "2025-03-04T08:19:39.498432Z",
     "iopub.status.busy": "2025-03-04T08:19:39.497755Z",
     "iopub.status.idle": "2025-03-04T08:19:39.510100Z",
     "shell.execute_reply": "2025-03-04T08:19:39.508400Z",
     "shell.execute_reply.started": "2025-03-04T08:19:39.498370Z"
    },
    "tags": []
   },
   "outputs": [
    {
     "name": "stdout",
     "output_type": "stream",
     "text": [
      "matplotlib version: 3.7.4\n",
      "numpy version: 1.24.0\n",
      "tiktoken version: 0.8.0\n",
      "torch version: 2.4.0\n"
     ]
    }
   ],
   "source": [
    "#同样导入库并检查版本\n",
    "\n",
    "from importlib.metadata import version\n",
    "\n",
    "pkgs = [\"matplotlib\", \n",
    "        \"numpy\", \n",
    "        \"tiktoken\", \n",
    "        \"torch\" # For OpenAI's pretrained weights\n",
    "       ]\n",
    "for p in pkgs:\n",
    "    print(f\"{p} version: {version(p)}\")\n"
   ]
  },
  {
   "cell_type": "markdown",
   "id": "725a6d68-ce6a-4988-ae56-e3969dc08413",
   "metadata": {},
   "source": [
    "### 使用未训练的GPT生成文本"
   ]
  },
  {
   "cell_type": "code",
   "execution_count": null,
   "id": "c6b7d5d1-f2ff-4ceb-b20c-594458a66239",
   "metadata": {},
   "outputs": [],
   "source": [
    "import torch\n",
    "from gpt import GPTModel\n",
    "\n",
    "# 定义GPT模型的配置参数\n",
    "GPT_CONFIG_124M = {\n",
    "    \"vocab_size\": 50257,   # 词汇表大小\n",
    "    \"context_length\": 256, # 缩短的上下文长度（原始值为1024）\n",
    "    \"emb_dim\": 768,        # 嵌入维度\n",
    "    \"n_heads\": 12,         # 注意力头的数量\n",
    "    \"n_layers\": 12,        # 层数\n",
    "    \"drop_rate\": 0.1,      # Dropout率\n",
    "    \"qkv_bias\": False      # 查询-键-值偏置\n",
    "}\n",
    "\n",
    "# 设置随机种子，确保实验结果可复现\n",
    "torch.manual_seed(123)\n",
    "\n",
    "# 初始化GPT模型\n",
    "model = GPTModel(GPT_CONFIG_124M)\n",
    "\n",
    "# 将模型设置为评估模式，禁用Dropout（在推理时不需要Dropout）\n",
    "model.eval()"
   ]
  },
  {
   "cell_type": "code",
   "execution_count": 36,
   "id": "bf7fca58-5be1-4dfc-8200-b80153e5dc4d",
   "metadata": {
    "execution": {
     "iopub.execute_input": "2025-03-04T09:22:09.069425Z",
     "iopub.status.busy": "2025-03-04T09:22:09.068493Z",
     "iopub.status.idle": "2025-03-04T09:22:10.554068Z",
     "shell.execute_reply": "2025-03-04T09:22:10.553577Z",
     "shell.execute_reply.started": "2025-03-04T09:22:09.069357Z"
    },
    "tags": []
   },
   "outputs": [
    {
     "name": "stdout",
     "output_type": "stream",
     "text": [
      "生成的文本:\n",
      " 每一个努力都会让你，我也不敢\n"
     ]
    }
   ],
   "source": [
    "from gpt import generate_text_simple\n",
    "import torch\n",
    "from transformers import GPT2Tokenizer\n",
    "\n",
    "# 将文本转换为Token ID张量，并添加批次维度\n",
    "def text_to_token_ids(text, tokenizer):\n",
    "    # 使用tokenizer对文本进行编码，允许特殊token '<|endoftext|>'\n",
    "    encoded = tokenizer.encode(text, add_special_tokens=True)\n",
    "    # 将编码后的token ID转换为PyTorch张量，并添加批次维度\n",
    "    encoded_tensor = torch.tensor(encoded).unsqueeze(0)\n",
    "    return encoded_tensor\n",
    "\n",
    "# 将Token ID张量转换回文本，移除批次维度\n",
    "def token_ids_to_text(token_ids, tokenizer):\n",
    "    # 移除批次维度，将张量从 (1, n) 变为 (n,)\n",
    "    flat = token_ids.squeeze(0)\n",
    "    # 使用tokenizer将token ID解码为文本\n",
    "    return tokenizer.decode(flat.tolist())\n",
    "\n",
    "# 设置初始上下文（中文例子）\n",
    "start_context = \"每一个努力都会让你\"\n",
    "\n",
    "# 初始化中文的分词器和模型\n",
    "\n",
    "tokenizer = GPT2Tokenizer.from_pretrained(\"IDEA-CCNL/Wenzhong-GPT2-110M\")\n",
    "\n",
    "# 生成文本\n",
    "token_ids = generate_text_simple(\n",
    "    model=model,  # 假设已经定义并加载了GPT模型\n",
    "    idx=text_to_token_ids(start_context, tokenizer),  # 将初始上下文转换为Token ID张量\n",
    "    max_new_tokens=10,  # 生成的最大新token数量\n",
    "    context_size=1024  # 上下文长度（假设 GPT_CONFIG_124M[\"context_length\"] 为 1024）\n",
    ")\n",
    "\n",
    "# 将生成的Token ID转换回文本并打印\n",
    "print(\"生成的文本:\\n\", token_ids_to_text(token_ids, tokenizer))"
   ]
  },
  {
   "cell_type": "markdown",
   "id": "5dabdfd1-e5bd-481e-89dd-4356057fa4a3",
   "metadata": {},
   "source": [
    "### 构造数据集"
   ]
  },
  {
   "cell_type": "code",
   "execution_count": 24,
   "id": "359fed53-8305-4d2f-bd7e-609dbb8c5499",
   "metadata": {
    "execution": {
     "iopub.execute_input": "2025-03-04T08:27:55.953446Z",
     "iopub.status.busy": "2025-03-04T08:27:55.953146Z",
     "iopub.status.idle": "2025-03-04T08:27:55.959131Z",
     "shell.execute_reply": "2025-03-04T08:27:55.958675Z",
     "shell.execute_reply.started": "2025-03-04T08:27:55.953423Z"
    }
   },
   "outputs": [],
   "source": [
    "import os\n",
    "import urllib.request\n",
    "\n",
    "file_path = \"红楼梦.txt\"\n",
    "#加载数据集\n",
    "with open(file_path, \"r\", encoding=\"utf-8\") as file:\n",
    "    text_data = file.read()"
   ]
  },
  {
   "cell_type": "code",
   "execution_count": 26,
   "id": "a981d8db-90e2-4570-8bca-3945c80fd6ce",
   "metadata": {
    "execution": {
     "iopub.execute_input": "2025-03-04T08:28:31.276084Z",
     "iopub.status.busy": "2025-03-04T08:28:31.275190Z",
     "iopub.status.idle": "2025-03-04T08:28:35.808985Z",
     "shell.execute_reply": "2025-03-04T08:28:35.808618Z",
     "shell.execute_reply.started": "2025-03-04T08:28:31.276017Z"
    }
   },
   "outputs": [
    {
     "name": "stderr",
     "output_type": "stream",
     "text": [
      "Token indices sequence length is longer than the specified maximum sequence length for this model (1861175 > 1024). Running this sequence through the model will result in indexing errors\n"
     ]
    },
    {
     "name": "stdout",
     "output_type": "stream",
     "text": [
      "Characters: 858628\n",
      "Tokens: 1861175\n"
     ]
    }
   ],
   "source": [
    "total_characters = len(text_data)\n",
    "total_tokens = len(tokenizer.encode(text_data))\n",
    "#统计一下文本的长度,编码文本内容并输出文本个数\n",
    "print(\"Characters:\", total_characters)\n",
    "print(\"Tokens:\", total_tokens)"
   ]
  },
  {
   "cell_type": "code",
   "execution_count": 27,
   "id": "31974b4d-7aae-4077-8c06-609de508d3cc",
   "metadata": {
    "execution": {
     "iopub.execute_input": "2025-03-04T08:30:05.525522Z",
     "iopub.status.busy": "2025-03-04T08:30:05.525335Z",
     "iopub.status.idle": "2025-03-04T08:30:06.040693Z",
     "shell.execute_reply": "2025-03-04T08:30:06.040369Z",
     "shell.execute_reply.started": "2025-03-04T08:30:05.525508Z"
    }
   },
   "outputs": [],
   "source": [
    "from gpt import create_dataloader_v1\n",
    "# 从一个库导入之前的文章\n",
    "\n",
    "# Train/validation ratio\n",
    "train_ratio = 0.90\n",
    "split_idx = int(train_ratio * len(text_data))\n",
    "train_data = text_data[:split_idx]\n",
    "val_data = text_data[split_idx:]\n",
    "# 这边可以手动定义训练集跟测试集的比例\n",
    "\n",
    "torch.manual_seed(123)\n",
    "# 依旧保持可复现\n",
    "\n",
    "train_loader = create_dataloader_v1(\n",
    "    train_data,\n",
    "    batch_size=2,\n",
    "    max_length=GPT_CONFIG_124M[\"context_length\"],\n",
    "    stride=GPT_CONFIG_124M[\"context_length\"],\n",
    "    drop_last=True,\n",
    "    shuffle=True,\n",
    "    num_workers=0\n",
    ")\n",
    "# 初始化输入训练模型, 给出批处理的大小、给出最大文本容量防止溢出\n",
    "# 给出步长, 丢弃最后一批不足的文本, 打开随机防止拟合过度\n",
    "\n",
    "val_loader = create_dataloader_v1(\n",
    "    val_data,\n",
    "    batch_size=2,\n",
    "    max_length=GPT_CONFIG_124M[\"context_length\"],\n",
    "    stride=GPT_CONFIG_124M[\"context_length\"],\n",
    "    drop_last=False,\n",
    "    shuffle=False,\n",
    "    num_workers=0\n",
    ")\n",
    "# 初始化验证数据加载器, 给出批处理的大小、给出最大文本容量防止溢出\n",
    "# 给出步长, 不丢弃最后一批不足的文本, 不进行随机打乱"
   ]
  },
  {
   "cell_type": "markdown",
   "id": "548d576b-8c43-46fb-b22e-e1ed23634812",
   "metadata": {},
   "source": [
    "### 定义损失函数"
   ]
  },
  {
   "cell_type": "code",
   "execution_count": 29,
   "id": "0adfa68c-3718-4a51-b4e2-e98fba176f51",
   "metadata": {
    "execution": {
     "iopub.execute_input": "2025-03-04T08:32:00.805591Z",
     "iopub.status.busy": "2025-03-04T08:32:00.805280Z",
     "iopub.status.idle": "2025-03-04T08:32:00.811023Z",
     "shell.execute_reply": "2025-03-04T08:32:00.810465Z",
     "shell.execute_reply.started": "2025-03-04T08:32:00.805553Z"
    }
   },
   "outputs": [],
   "source": [
    "def calc_loss_batch(input_batch, target_batch, model, device):\n",
    "    input_batch, target_batch = input_batch.to(device), target_batch.to(device)\n",
    "    # 将输入数据和目标数据移动到指定的设备（如GPU）\n",
    "    logits = model(input_batch)\n",
    "    # 通过模型计算输入数据的输出（logits）\n",
    "    loss = torch.nn.functional.cross_entropy(logits.flatten(0, 1), target_batch.flatten())\n",
    "    # 使用交叉熵损失函数计算损失，并将logits和目标数据展平为二维\n",
    "    return loss\n",
    "# 这是一个计算单个批次损失的函数\n",
    "\n",
    "def calc_loss_loader(data_loader, model, device, num_batches=None):\n",
    "    total_loss = 0.\n",
    "    # 初始化总损失为0\n",
    "    if len(data_loader) == 0:\n",
    "        return float(\"nan\")\n",
    "        # 如果数据加载器为空，返回NaN（表示无效值）\n",
    "    elif num_batches is None:\n",
    "        num_batches = len(data_loader)\n",
    "        # 如果未指定批次数，则使用数据加载器中的总批次数\n",
    "    else:\n",
    "        # 如果指定的批次数超过数据加载器中的总批次数，则将批次数减少到与数据加载器的总批次数匹配\n",
    "        num_batches = min(num_batches, len(data_loader))\n",
    "        # 减少需要处理的批次数，防止溢出\n",
    "    for i, (input_batch, target_batch) in enumerate(data_loader):\n",
    "        if i < num_batches:\n",
    "            loss = calc_loss_batch(input_batch, target_batch, model, device)\n",
    "            # 计算当前批次的损失\n",
    "            total_loss += loss.item()\n",
    "            # 将当前批次的损失累加到总损失中\n",
    "        else:\n",
    "            break\n",
    "            # 如果已达到指定的批次数，则停止循环\n",
    "    return total_loss / num_batches\n",
    "    # 返回平均损失（总损失除以批次数）"
   ]
  },
  {
   "cell_type": "markdown",
   "id": "6ebecf64-ea70-42c0-9345-4b8117d91ccc",
   "metadata": {},
   "source": [
    "#### 整体损失函数"
   ]
  },
  {
   "cell_type": "code",
   "execution_count": 30,
   "id": "07c90f05-5052-42dd-8344-ca3c67af79e1",
   "metadata": {
    "execution": {
     "iopub.execute_input": "2025-03-04T08:33:04.442478Z",
     "iopub.status.busy": "2025-03-04T08:33:04.442144Z",
     "iopub.status.idle": "2025-03-04T08:33:58.410700Z",
     "shell.execute_reply": "2025-03-04T08:33:58.410341Z",
     "shell.execute_reply.started": "2025-03-04T08:33:04.442448Z"
    }
   },
   "outputs": [
    {
     "name": "stdout",
     "output_type": "stream",
     "text": [
      "Training loss: 11.029632693865826\n",
      "Validation loss: 11.02708101802402\n"
     ]
    }
   ],
   "source": [
    "device = torch.device(\"cuda\" if torch.cuda.is_available() else \"cpu\")\n",
    "\n",
    "model.to(device)  # 对于 nn.Module 类，不需要赋值 model = model.to(device)\n",
    "\n",
    "torch.manual_seed(123)  # 固定随机种子，保证数据加载器打乱数据的结果可复现\n",
    "\n",
    "with torch.no_grad():  # 禁用梯度跟踪以提高效率，因为此时尚未开始训练\n",
    "    train_loss = calc_loss_loader(train_loader, model, device)\n",
    "    val_loss = calc_loss_loader(val_loader, model, device)\n",
    "\n",
    "# 推理阶段不计算梯度\n",
    "print(\"Training loss:\", train_loss)\n",
    "print(\"Validation loss:\", val_loss)"
   ]
  },
  {
   "cell_type": "markdown",
   "id": "408ab9d6-ce05-425b-af44-9ea2b2023168",
   "metadata": {},
   "source": [
    "### 定义训练大模型流程"
   ]
  },
  {
   "cell_type": "code",
   "execution_count": 31,
   "id": "311b0629-34cc-48e6-964b-b95e76ec4105",
   "metadata": {
    "execution": {
     "iopub.execute_input": "2025-03-04T08:34:51.263333Z",
     "iopub.status.busy": "2025-03-04T08:34:51.263103Z",
     "iopub.status.idle": "2025-03-04T08:34:51.268468Z",
     "shell.execute_reply": "2025-03-04T08:34:51.268097Z",
     "shell.execute_reply.started": "2025-03-04T08:34:51.263318Z"
    }
   },
   "outputs": [],
   "source": [
    "def train_model_simple(model, train_loader, val_loader, optimizer, device, num_epochs,\n",
    "                       eval_freq, eval_iter, start_context, tokenizer):\n",
    "    # 初始化列表以跟踪损失和已处理的token数量\n",
    "    train_losses, val_losses, track_tokens_seen = [], [], []\n",
    "    tokens_seen, global_step = 0, -1\n",
    "    # 初始化训练模型并创建空列表用于记录数据\n",
    "\n",
    "    # 主训练循环\n",
    "    for epoch in range(num_epochs):  # 训练次数\n",
    "        model.train()  # 将模型设置为训练模式\n",
    "        # 切换到训练模式\n",
    "\n",
    "        for input_batch, target_batch in train_loader:\n",
    "            # 从数据加载器中获取输入和目标数据\n",
    "            optimizer.zero_grad()  # 重置上一批次的梯度\n",
    "            # 清空所有参数的梯度\n",
    "            loss = calc_loss_batch(input_batch, target_batch, model, device)\n",
    "            # 计算当前批次的损失\n",
    "            loss.backward()  # 计算损失梯度\n",
    "            # 反向传播优化\n",
    "            optimizer.step()  # 使用损失梯度更新模型权重\n",
    "            # 更新模型权重\n",
    "            tokens_seen += input_batch.numel()\n",
    "            # 累加已处理的token数量\n",
    "            global_step += 1\n",
    "            # 记录全局训练步数\n",
    "\n",
    "            # 可选的评估步骤\n",
    "            if global_step % eval_freq == 0:\n",
    "                # 按照指定的步数进行评估\n",
    "                train_loss, val_loss = evaluate_model(\n",
    "                    model, train_loader, val_loader, device, eval_iter)\n",
    "                # 计算训练和验证损失\n",
    "                train_losses.append(train_loss)\n",
    "                val_losses.append(val_loss)\n",
    "                track_tokens_seen.append(tokens_seen)\n",
    "                # 将损失和已处理的token数量记录到列表中\n",
    "                print(f\"Ep {epoch+1} (Step {global_step:06d}): \"\n",
    "                      f\"Train loss {train_loss:.3f}, Val loss {val_loss:.3f}\")\n",
    "\n",
    "        # 每个epoch结束后生成并打印一个样本文本\n",
    "        generate_and_print_sample(\n",
    "            model, tokenizer, device, start_context\n",
    "        )\n",
    "\n",
    "    return train_losses, val_losses, track_tokens_seen\n",
    "    # 返回训练损失、验证损失和已处理的token数量\n",
    "\n",
    "\n",
    "def evaluate_model(model, train_loader, val_loader, device, eval_iter):\n",
    "    # 模型评估模块\n",
    "    model.eval()  # 将模型设置为评估模式\n",
    "    # 切换到评估模式\n",
    "    with torch.no_grad():  # 禁用梯度计算\n",
    "        # 确保在评估过程中不更新梯度\n",
    "        train_loss = calc_loss_loader(train_loader, model, device, num_batches=eval_iter)\n",
    "        val_loss = calc_loss_loader(val_loader, model, device, num_batches=eval_iter)\n",
    "        # 计算训练和验证损失\n",
    "    model.train()  # 评估结束后切换回训练模式\n",
    "    # 在评估结束后切换回训练模式，确保模型能继续用于训练\n",
    "    return train_loss, val_loss\n",
    "    # 返回训练和验证损失\n",
    "\n",
    "\n",
    "def generate_and_print_sample(model, tokenizer, device, start_context):\n",
    "    # 生成并打印样本文本\n",
    "    model.eval()  # 将模型设置为评估模式\n",
    "    context_size = model.pos_emb.weight.shape[0]  # 获取模型的上下文大小\n",
    "    encoded = text_to_token_ids(start_context, tokenizer).to(device)  # 将起始文本编码为token ID\n",
    "    with torch.no_grad():  # 禁用梯度计算\n",
    "        token_ids = generate_text_simple(\n",
    "            model=model, idx=encoded,\n",
    "            max_new_tokens=50, context_size=context_size\n",
    "        )  # 生成新的文本\n",
    "    decoded_text = token_ids_to_text(token_ids, tokenizer)  # 将token ID解码为文本\n",
    "    print(decoded_text.replace(\"\\n\", \" \"))  # 以紧凑格式打印生成的文本\n",
    "    model.train()  # 切换回训练模式\n",
    "    # 在生成文本后切换回训练模式，确保模型能继续用于训练"
   ]
  },
  {
   "cell_type": "markdown",
   "id": "2df0c017-76d3-4a46-8d65-9aa9200d59cc",
   "metadata": {},
   "source": [
    "### 训练大模型"
   ]
  },
  {
   "cell_type": "code",
   "execution_count": null,
   "id": "80fcf425-293e-441c-95d5-8f072512e58c",
   "metadata": {},
   "outputs": [],
   "source": [
    "\n",
    "torch.manual_seed(123)  # 设置随机种子，确保实验的可复现性\n",
    "model = GPTModel(GPT_CONFIG_124M)  # 初始化GPT模型\n",
    "model.to(device)  # 将模型移动到指定的设备（如GPU）\n",
    "# 经典操作\n",
    "\n",
    "optimizer = torch.optim.AdamW(model.parameters(), lr=0.0004, weight_decay=0.1)\n",
    "# 使用AdamW优化器，其中学习率为0.0004，权重衰减为0.1\n",
    "# 学习率控制参数更新的步幅，权重衰减用于防止过拟合\n",
    "\n",
    "num_epochs = 10  # 设置训练的总轮数为10\n",
    "# 10轮学习\n",
    "\n",
    "train_losses, val_losses, tokens_seen = train_model_simple(\n",
    "    model, train_loader, val_loader, optimizer, device,\n",
    "    num_epochs=num_epochs, eval_freq=5, eval_iter=5,\n",
    "    start_context=\"贾宝玉\", tokenizer=tokenizer\n",
    ")\n"
   ]
  },
  {
   "cell_type": "markdown",
   "id": "e4a361f3-b10c-42bc-b4bd-a23712a74491",
   "metadata": {},
   "source": [
    "### 绘制损失函数"
   ]
  },
  {
   "cell_type": "code",
   "execution_count": 33,
   "id": "bf48e1d5-f0e1-455f-aef3-0bc32a0579ae",
   "metadata": {
    "execution": {
     "iopub.execute_input": "2025-03-04T09:20:21.210237Z",
     "iopub.status.busy": "2025-03-04T09:20:21.209783Z",
     "iopub.status.idle": "2025-03-04T09:20:23.340223Z",
     "shell.execute_reply": "2025-03-04T09:20:23.339821Z",
     "shell.execute_reply.started": "2025-03-04T09:20:21.210215Z"
    }
   },
   "outputs": [
    {
     "data": {
      "image/png": "[encoded data removed]",
      "text/plain": [
       "<Figure size 500x300 with 2 Axes>"
      ]
     },
     "metadata": {},
     "output_type": "display_data"
    }
   ],
   "source": [
    "import matplotlib.pyplot as plt\n",
    "from matplotlib.ticker import MaxNLocator\n",
    "\n",
    "def plot_losses(epochs_seen, tokens_seen, train_losses, val_losses):\n",
    "    # 创建一个画布和子图，设置画布大小为 5x3\n",
    "    fig, ax1 = plt.subplots(figsize=(5, 3))\n",
    "\n",
    "    # 绘制训练损失和验证损失随 epoch 变化的曲线\n",
    "    ax1.plot(epochs_seen, train_losses, label=\"Training loss\")  # 训练损失曲线\n",
    "    ax1.plot(epochs_seen, val_losses, linestyle=\"-.\", label=\"Validation loss\")  # 验证损失曲线（虚线）\n",
    "    ax1.set_xlabel(\"Epochs\")  # 设置 x 轴标签为 \"Epochs\"\n",
    "    ax1.set_ylabel(\"Loss\")  # 设置 y 轴标签为 \"Loss\"\n",
    "    ax1.legend(loc=\"upper right\")  # 在右上角显示图例\n",
    "    ax1.xaxis.set_major_locator(MaxNLocator(integer=True))  # 设置 x 轴刻度为整数\n",
    "\n",
    "    # 创建第二个 x 轴，用于显示已处理的 token 数量\n",
    "    ax2 = ax1.twiny()  # 创建一个共享 y 轴的第二个 x 轴\n",
    "    ax2.plot(tokens_seen, train_losses, alpha=0)  # 绘制一个透明的曲线，用于对齐刻度\n",
    "    ax2.set_xlabel(\"Tokens seen\")  # 设置第二个 x 轴标签为 \"Tokens seen\"\n",
    "\n",
    "    fig.tight_layout()  # 调整布局以避免元素重叠\n",
    "    plt.savefig(\"loss-plot.pdf\")  # 将图像保存为 PDF 文件\n",
    "    plt.show()  # 显示图像\n",
    "\n",
    "# 生成 epoch 的线性张量，用于绘制 x 轴\n",
    "epochs_tensor = torch.linspace(0, num_epochs, len(train_losses))\n",
    "# 调用 plot_losses 函数，绘制损失曲线\n",
    "plot_losses(epochs_tensor, tokens_seen, train_losses, val_losses)\n",
    "# 这是一个经典的绘图函数，用于可视化训练和验证损失"
   ]
  },
  {
   "cell_type": "markdown",
   "id": "18741486-9866-4567-a4e8-a7b2bac27be5",
   "metadata": {},
   "source": [
    "### 文本生成"
   ]
  },
  {
   "cell_type": "code",
   "execution_count": 44,
   "id": "280fa8d7-674f-4a1a-b23c-075b393504e1",
   "metadata": {
    "execution": {
     "iopub.execute_input": "2025-03-04T09:24:38.295331Z",
     "iopub.status.busy": "2025-03-04T09:24:38.295146Z",
     "iopub.status.idle": "2025-03-04T09:24:39.247118Z",
     "shell.execute_reply": "2025-03-04T09:24:39.246802Z",
     "shell.execute_reply.started": "2025-03-04T09:24:38.295316Z"
    },
    "tags": []
   },
   "outputs": [
    {
     "name": "stdout",
     "output_type": "stream",
     "text": [
      "Output text:\n",
      " 贾宝玉笑道：“我们这个东西，你们\n"
     ]
    }
   ],
   "source": [
    "model.to(\"cpu\")\n",
    "model.eval()\n",
    "\n",
    "\n",
    "\n",
    "token_ids = generate_text_simple(\n",
    "    model=model,\n",
    "    idx=text_to_token_ids(\"贾宝玉\", tokenizer),\n",
    "    max_new_tokens=30,\n",
    "    context_size=GPT_CONFIG_124M[\"context_length\"]\n",
    ")\n",
    "#经典的载入\n",
    "print(\"Output text:\\n\", token_ids_to_text(token_ids, tokenizer))"
   ]
  },
  {
   "cell_type": "markdown",
   "id": "d5d2df94-e6e0-4b4d-9cd5-08ba80496d0c",
   "metadata": {},
   "source": [
    "### 温度缩放和top_k"
   ]
  },
  {
   "cell_type": "code",
   "execution_count": 45,
   "id": "f2ad2902-4e32-4f5a-871a-fa2ddea441a1",
   "metadata": {
    "execution": {
     "iopub.execute_input": "2025-03-04T09:25:04.976912Z",
     "iopub.status.busy": "2025-03-04T09:25:04.976415Z",
     "iopub.status.idle": "2025-03-04T09:25:04.985684Z",
     "shell.execute_reply": "2025-03-04T09:25:04.985063Z",
     "shell.execute_reply.started": "2025-03-04T09:25:04.976883Z"
    }
   },
   "outputs": [],
   "source": [
    "def generate(model, idx, max_new_tokens, context_size, temperature=0.0, top_k=None, eos_id=None):\n",
    "    # 生成模块\n",
    "    # For-loop 与之前相同：获取 logits，并仅关注最后一个时间步\n",
    "    for _ in range(max_new_tokens):\n",
    "        idx_cond = idx[:, -context_size:]  # 截取最后的 context_size 个 token 作为输入\n",
    "        with torch.no_grad():  # 禁用梯度计算\n",
    "            logits = model(idx_cond)  # 通过模型计算 logits\n",
    "        logits = logits[:, -1, :]  # 仅取最后一个时间步的 logits\n",
    "        # 计算预测值，但只关注最后一个时间步\n",
    "\n",
    "        # 新功能：使用 top-k 采样过滤 logits\n",
    "        # top-k 采样\n",
    "        if top_k is not None:\n",
    "            # 仅保留 top_k 的值\n",
    "            top_logits, _ = torch.topk(logits, top_k)  # 获取 top_k 的 logits\n",
    "            min_val = top_logits[:, -1]  # 获取 top_k 的最小值\n",
    "            logits = torch.where(logits < min_val, torch.tensor(float(\"-inf\")).to(logits.device), logits)\n",
    "            # 将小于 min_val 的 logits 设置为负无穷，排除低概率的 token\n",
    "\n",
    "        # 新功能：应用温度缩放\n",
    "        # 温度校正\n",
    "        if temperature > 0.0:\n",
    "            logits = logits / temperature  # 对 logits 进行温度缩放\n",
    "\n",
    "            # 应用 softmax 获取概率分布\n",
    "            probs = torch.softmax(logits, dim=-1)  # (batch_size, context_len)\n",
    "\n",
    "            # 从概率分布中采样下一个 token\n",
    "            idx_next = torch.multinomial(probs, num_samples=1)  # (batch_size, 1)\n",
    "            # 从概率分布中采样下一个 token\n",
    "\n",
    "        # 否则与之前相同：选择 logits 值最高的 token\n",
    "        else:\n",
    "            idx_next = torch.argmax(logits, dim=-1, keepdim=True)  # (batch_size, 1)\n",
    "            # 如果未启用采样，选择概率最高的 token 作为下一个 token\n",
    "\n",
    "        if idx_next == eos_id:  # 如果遇到结束符且 eos_id 已指定，则提前停止生成\n",
    "            break\n",
    "\n",
    "        # 与之前相同：将采样的 token 添加到当前序列中\n",
    "        idx = torch.cat((idx, idx_next), dim=1)  # (batch_size, num_tokens+1)\n",
    "\n",
    "    return idx  # 返回生成的完整序列"
   ]
  },
  {
   "cell_type": "code",
   "execution_count": 47,
   "id": "a424c244-4379-42f4-ab5a-a75c89b8bc79",
   "metadata": {
    "execution": {
     "iopub.execute_input": "2025-03-04T09:25:40.495022Z",
     "iopub.status.busy": "2025-03-04T09:25:40.494319Z",
     "iopub.status.idle": "2025-03-04T09:25:41.067656Z",
     "shell.execute_reply": "2025-03-04T09:25:41.067004Z",
     "shell.execute_reply.started": "2025-03-04T09:25:40.494961Z"
    },
    "tags": []
   },
   "outputs": [
    {
     "name": "stdout",
     "output_type": "stream",
     "text": [
      "Output text:\n",
      " 贾宝玉不劝言，也不来请安�\n"
     ]
    }
   ],
   "source": [
    "torch.manual_seed(123)\n",
    "\n",
    "token_ids = generate(\n",
    "    model=model,\n",
    "    idx=text_to_token_ids(\"贾宝玉\", tokenizer),\n",
    "    max_new_tokens=20,\n",
    "    context_size=GPT_CONFIG_124M[\"context_length\"],\n",
    "    top_k=25,\n",
    "    temperature=1.4\n",
    ")\n",
    "\n",
    "print(\"Output text:\\n\", token_ids_to_text(token_ids, tokenizer))\n",
    "#经典的操作"
   ]
  },
  {
   "cell_type": "markdown",
   "id": "68857738-7c81-4de2-bb21-52064b9dbc6d",
   "metadata": {},
   "source": [
    "#### 保留权重"
   ]
  },
  {
   "cell_type": "code",
   "execution_count": 48,
   "id": "faa91ad1-13e8-416d-b92a-7cb32f0ccffb",
   "metadata": {
    "execution": {
     "iopub.execute_input": "2025-03-04T09:26:08.966512Z",
     "iopub.status.busy": "2025-03-04T09:26:08.966303Z",
     "iopub.status.idle": "2025-03-04T09:26:09.266087Z",
     "shell.execute_reply": "2025-03-04T09:26:09.265746Z",
     "shell.execute_reply.started": "2025-03-04T09:26:08.966494Z"
    }
   },
   "outputs": [],
   "source": [
    "torch.save(model.state_dict(), \"model.pth\")"
   ]
  },
  {
   "cell_type": "markdown",
   "id": "d34dabe8-e875-42e7-9d01-698929da03c9",
   "metadata": {},
   "source": [
    "#### 加载模型"
   ]
  },
  {
   "cell_type": "code",
   "execution_count": null,
   "id": "1ebd5d9b-b2be-4627-881d-726debdd8121",
   "metadata": {
    "execution": {
     "iopub.execute_input": "2025-03-04T09:26:38.704908Z",
     "iopub.status.busy": "2025-03-04T09:26:38.704719Z"
    }
   },
   "outputs": [],
   "source": [
    "model = GPTModel(GPT_CONFIG_124M)\n",
    "device = torch.device(\"cuda\" if torch.cuda.is_available() else \"cpu\")\n",
    "model.load_state_dict(torch.load(\"model.pth\", map_location=device, weights_only=True))\n",
    "model.eval();"
   ]
  },
  {
   "cell_type": "code",
   "execution_count": null,
   "id": "a1156332-c0ad-4030-8f78-639c4392a430",
   "metadata": {},
   "outputs": [],
   "source": []
  }
 ],
 "metadata": {
  "kernelspec": {
   "display_name": "Python [conda env:cg-pt2]",
   "language": "python",
   "name": "conda-env-cg-pt2-py"
  },
  "language_info": {
   "codemirror_mode": {
    "name": "ipython",
    "version": 3
   },
   "file_extension": ".py",
   "mimetype": "text/x-python",
   "name": "python",
   "nbconvert_exporter": "python",
   "pygments_lexer": "ipython3",
   "version": "3.9.19"
  }
 },
 "nbformat": 4,
 "nbformat_minor": 5
}
